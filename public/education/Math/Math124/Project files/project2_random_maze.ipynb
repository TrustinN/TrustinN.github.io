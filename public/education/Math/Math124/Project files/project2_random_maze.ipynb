{
 "cells": [
  {
   "cell_type": "markdown",
   "metadata": {},
   "source": [
    "# Math 124 - Programming for Mathematical Applications\n",
    "UC Berkeley, Spring 2023\n",
    "\n",
    "## Project 2 - Random Maze\n",
    "Due Friday, March 3"
   ]
  },
  {
   "cell_type": "markdown",
   "metadata": {},
   "source": [
    "### Description\n",
    "\n",
    "In this project, you will write a computer code to generate a random maze using a recursive algorithm. You will also write a code to find a path between two points in a given maze.\n",
    "\n",
    "The integer `n` specifies the size of the `n`-by-`n` array of cells in the maze. Note the matrix indices `i,j` specify the $x$ and $y$-coordinates, respectively (see plot below).\n",
    "\n",
    "The horizontal and the vertical *interior* walls of the maze are described by the arrays:\n",
    "\n",
    "- `H`, Bool array of size `n`-by-`n-1`\n",
    "- `V`, Bool array of size `n-1`-by-`n`\n",
    "\n",
    "These arrays specify if there is a wall or not between two neighboring cells.\n",
    "\n",
    "An example is given below, with $n=6$:"
   ]
  },
  {
   "cell_type": "code",
   "execution_count": 1,
   "metadata": {},
   "outputs": [],
   "source": [
    "H = Bool[0 1 0 0 0; 1 0 1 0 0; 0 1 1 0 0; 1 1 1 0 1; 0 1 0 1 1; 1 0 0 0 0];\n",
    "V = Bool[1 0 1 1 1 0; 0 1 0 0 1 1; 0 0 0 0 1 0; 0 1 0 1 0 0; 0 0 1 0 1 0];"
   ]
  },
  {
   "cell_type": "markdown",
   "metadata": {},
   "source": [
    "and the following helper functions can be used to plot the maze:"
   ]
  },
  {
   "cell_type": "code",
   "execution_count": 2,
   "metadata": {},
   "outputs": [
    {
     "data": {
      "text/plain": [
       "plot_cell_indices (generic function with 1 method)"
      ]
     },
     "execution_count": 2,
     "metadata": {},
     "output_type": "execute_result"
    }
   ],
   "source": [
    "using PyPlot, Random\n",
    "\n",
    "function plot_maze(H,V)\n",
    "    clf()\n",
    "    axis(\"off\")\n",
    "    axis(\"equal\")\n",
    "    n = size(H,1)\n",
    "    plot([0,n,n,0,0], [0,0,n,n,0], color=\"k\")\n",
    "    \n",
    "    for x = 1:n-1, y = 1:n\n",
    "        if V[x,y]\n",
    "            plot([x,x], [y-1,y], color=\"k\")\n",
    "        end\n",
    "    end\n",
    "    for x = 1:n, y = 1:n-1\n",
    "        if H[x,y]\n",
    "            plot([x-1,x], [y,y], color=\"k\")\n",
    "        end\n",
    "    end\n",
    "end\n",
    "\n",
    "function plot_cell_indices(n)\n",
    "    for i = 1:n\n",
    "        for j = 1:n\n",
    "            text(i-0.5, j-0.5, \"($i,$j)\",\n",
    "                horizontalalignment=\"center\",\n",
    "                verticalalignment=\"center\",\n",
    "                fontsize=8)\n",
    "        end\n",
    "    end\n",
    "end"
   ]
  },
  {
   "cell_type": "code",
   "execution_count": 3,
   "metadata": {},
   "outputs": [
    {
     "data": {
      "image/png": "[encoded data removed]",
      "text/plain": [
       "Figure(PyObject <Figure size 640x480 with 1 Axes>)"
      ]
     },
     "metadata": {},
     "output_type": "display_data"
    }
   ],
   "source": [
    "plot_maze(H,V)\n",
    "plot_cell_indices(size(H,1))"
   ]
  },
  {
   "cell_type": "markdown",
   "metadata": {},
   "source": [
    "In addition, we will find paths between the points `1,n` and `n,1`, which can be stored in two arrays of integers. For the example above, this path is given by"
   ]
  },
  {
   "cell_type": "code",
   "execution_count": 4,
   "metadata": {},
   "outputs": [],
   "source": [
    "x = [6, 5, 5, 6, 6, 6, 6, 6, 5, 4, 3, 3, 3, 2, 2, 2, 1];\n",
    "y = [1, 1, 2, 2, 3, 4, 5, 6, 6, 6, 6, 5, 4, 4, 5, 6, 6];"
   ]
  },
  {
   "cell_type": "markdown",
   "metadata": {},
   "source": [
    "and it can be plotted along with the maze using the commands:"
   ]
  },
  {
   "cell_type": "code",
   "execution_count": 5,
   "metadata": {},
   "outputs": [
    {
     "data": {
      "image/png": "[encoded data removed]",
      "text/plain": [
       "Figure(PyObject <Figure size 640x480 with 1 Axes>)"
      ]
     },
     "metadata": {},
     "output_type": "display_data"
    }
   ],
   "source": [
    "plot_maze(H,V);\n",
    "plot(x .- 0.5, y .- 0.5, color=\"r\", linewidth=4);"
   ]
  },
  {
   "cell_type": "markdown",
   "metadata": {},
   "source": [
    "### Problem 1 - Generate random maze\n",
    "\n",
    "Write a function with the syntax\n",
    "\n",
    "```julia\n",
    "H,V = make_maze(n)\n",
    "```\n",
    "\n",
    "which produces a random maze of size `n`-by-`n` using the following algorithm:\n",
    "\n",
    "1. Initialize `H` and `V` to matrices of `trues` (that is, assume all cells have walls on all sides)\n",
    "2. Also initialize an array `visit` to a matrix of `falses`, to keep track of cells that have been visited\n",
    "3. Create a function `dig(x,y)` which loops over the four directions (Right, Left, Up, Down) in a random order. For each direction, if the neighbor cell is valid and not visited, remove the corresponding wall from `H` or `V` and run the `dig` function recursively on the neighbor cell.\n",
    "4. Call `dig(1,1)` and return `H,V`"
   ]
  },
  {
   "cell_type": "code",
   "execution_count": 6,
   "metadata": {},
   "outputs": [
    {
     "data": {
      "text/plain": [
       "make_maze (generic function with 1 method)"
      ]
     },
     "execution_count": 6,
     "metadata": {},
     "output_type": "execute_result"
    }
   ],
   "source": [
    "function make_maze(n)\n",
    "    H = trues(n, n - 1)\n",
    "    V = trues(n - 1, n)\n",
    "    visit = falses(n,n)\n",
    "    visit[1,1] = true\n",
    "    \n",
    "    function dig(x,y)\n",
    "        checkx = [true; visit[x, :]; true]\n",
    "        checky = [true; visit[:, y]; true]  \n",
    "        s = []\n",
    "        \n",
    "        if checkx[y] == false || checkx[y + 2] == false || checky[x] == false || checky[x + 2] == false\n",
    "            if checkx[y] == false\n",
    "                push!(s, 1)\n",
    "            end\n",
    "            \n",
    "            if checkx[y + 2] == false \n",
    "                push!(s, 2)\n",
    "            end\n",
    "            \n",
    "            if checky[x] == false \n",
    "                push!(s, 4)\n",
    "            end\n",
    "            \n",
    "            if checky[x + 2] == false\n",
    "                push!(s, 3)\n",
    "            end\n",
    "    \n",
    "            v = []\n",
    "            while true\n",
    "                r = rand(s)\n",
    "                if !(r ∈ v)\n",
    "                    push!(v, r)\n",
    "                end\n",
    "                if length(v) == length(s)\n",
    "                    break\n",
    "                end\n",
    "            end\n",
    "\n",
    "            for d in v \n",
    "                if d == 1 && visit[x, y - 1] == false                     #left\n",
    "                    V[y - 1, n - x + 1], visit[x, y - 1] = false, true\n",
    "                elseif d == 2 && visit[x, y + 1] == false                 #right\n",
    "                    V[y, n - x + 1], visit[x, y + 1] = false, true\n",
    "                elseif d == 3 && visit[x + 1, y] == false                 #down\n",
    "                    H[y, n - x], visit[x + 1, y] = false, true\n",
    "                elseif d == 4 && visit[x - 1, y] == false                 #up\n",
    "                    H[y, n - x + 1], visit[x - 1, y] = false, true\n",
    "                end\n",
    "            \n",
    "                if d == 1 && visit[x, y - 1] == true\n",
    "                    y -= 1\n",
    "                    dig(x,y)\n",
    "                elseif d == 2 && visit[x, y + 1] == true\n",
    "                    y += 1\n",
    "                    dig(x,y)\n",
    "                elseif d == 3 && visit[x + 1, y] == true\n",
    "                    x += 1\n",
    "                    dig(x,y) \n",
    "                elseif d == 4 && visit[x - 1, y] == true\n",
    "                    x -= 1\n",
    "                    dig(x,y)\n",
    "                end\n",
    "            end\n",
    "        end\n",
    "    end\n",
    "    dig(1,1)\n",
    "    H, V, visit\n",
    "end "
   ]
  },
  {
   "cell_type": "markdown",
   "metadata": {},
   "source": [
    "### Problem 2 - Find path from `1,n` to `n,1`\n",
    "\n",
    "Next, write a function with the syntax\n",
    "\n",
    "```julia\n",
    "pathx, pathy = find_path(H,V)\n",
    "```\n",
    "\n",
    "which finds a path in the maze `H,V` between the coordinates `1,n` and `n,1` using the following algorithm:\n",
    "\n",
    "1. Again create an array `visit` to keep track of visited cells\n",
    "2. Also initialize empty vectors `pathx,pathy` to store the final path\n",
    "3. Create a recursive function `recur(x,y)` which performs the following:\n",
    "   1. If the position `x==n` and `y==1` is found, insert these values into `pathx,pathy` and return `true`\n",
    "   2. Otherwise, consider each neighbor of `x,y`. If the cell is valid, the maze has no wall in that direction, and the cell has not been visited, apply `recur` to the neighbor cell.\n",
    "   3. If any of the calls to `recur` returns `true`, insert `x,y` into `pathx,pathy` and return `true`\n",
    "4. Call `recur(1,n)` and return `pathx,path`"
   ]
  },
  {
   "cell_type": "code",
   "execution_count": 7,
   "metadata": {},
   "outputs": [
    {
     "data": {
      "text/plain": [
       "find_path (generic function with 1 method)"
      ]
     },
     "execution_count": 7,
     "metadata": {},
     "output_type": "execute_result"
    }
   ],
   "source": [
    "function find_path(H,V)\n",
    "    n = size(H, 1)\n",
    "    visit = falses(n,n)\n",
    "    pathx = []\n",
    "    pathy = []\n",
    "    \n",
    "    function recur(x,y)\n",
    "        checkx = [true; visit[x, :]; true]\n",
    "        checky = [true; visit[:, y]; true]\n",
    "        \n",
    "        if x == n && y == n\n",
    "            push!(pathx, x)\n",
    "            push!(pathy, y)\n",
    "            return true\n",
    "        elseif checkx[y] == false || checkx[y + 2] == false || checky[x] == false || checky[x + 2] == false\n",
    "            v = []\n",
    "            if checkx[y] == false \n",
    "                if V[y - 1, n - x + 1] == false\n",
    "                    push!(v, 1)\n",
    "                end\n",
    "            end\n",
    "            \n",
    "            if checkx[y + 2] == false \n",
    "                if V[y, n - x + 1] == false\n",
    "                    push!(v, 2)\n",
    "                end\n",
    "            end\n",
    "            \n",
    "            if checky[x + 2] == false \n",
    "                if H[y, n - x] == false\n",
    "                    push!(v, 3)\n",
    "                end\n",
    "            end\n",
    "            \n",
    "            if checky[x] == false \n",
    "                if H[y, n - x + 1] == false\n",
    "                    push!(v, 4)\n",
    "                end\n",
    "            end\n",
    "            \n",
    "            for d in v\n",
    "                if d == 1 && visit[x, y - 1] == false                         #left\n",
    "                    visit[x, y - 1] = true\n",
    "                    if recur(x, y - 1) == true\n",
    "                        push!(pathx, x)\n",
    "                        push!(pathy, y)\n",
    "                        return true\n",
    "                    end\n",
    "                end\n",
    "                if d == 2 && visit[x, y + 1] == false                         #right\n",
    "                    visit[x, y + 1] = true\n",
    "                    if recur(x, y + 1) == true\n",
    "                        push!(pathx, x)\n",
    "                        push!(pathy, y)\n",
    "                        return true\n",
    "                    end\n",
    "                end\n",
    "                if d == 3 && visit[x + 1, y] == false                         #down\n",
    "                    visit[x + 1, y] = true\n",
    "                    if recur(x + 1, y) == true\n",
    "                        push!(pathx, x)\n",
    "                        push!(pathy, y)\n",
    "                        return true\n",
    "                    end\n",
    "                end\n",
    "                if d == 4 && visit[x - 1, y] == false                         #up\n",
    "                    visit[x - 1, y] = true\n",
    "                    if recur(x - 1, y) == true\n",
    "                        push!(pathx, x)\n",
    "                        push!(pathy, y)\n",
    "                        return true\n",
    "                    end\n",
    "                end\n",
    "            end\n",
    "        end\n",
    "    end\n",
    "    recur(1,1)\n",
    "    pathx, pathy\n",
    "end"
   ]
  },
  {
   "cell_type": "markdown",
   "metadata": {},
   "source": [
    "### Problem 3 - Large maze test\n",
    "\n",
    "Finally, run the code below to illustrate your codes."
   ]
  },
  {
   "cell_type": "code",
   "execution_count": 8,
   "metadata": {
    "scrolled": false
   },
   "outputs": [
    {
     "data": {
      "image/png": "[encoded data removed]",
      "text/plain": [
       "Figure(PyObject <Figure size 640x480 with 1 Axes>)"
      ]
     },
     "metadata": {},
     "output_type": "display_data"
    }
   ],
   "source": [
    "n = 25\n",
    "H,V = make_maze(n) \n",
    "plot_maze(H,V)\n",
    "x, y = find_path(H,V)\n",
    "plot(y .- 0.5,-x .+ 0.5 .+ n, color=\"r\", linewidth=4);"
   ]
  }
 ],
 "metadata": {
  "kernelspec": {
   "display_name": "Julia 1.6.3",
   "language": "julia",
   "name": "julia-1.6"
  },
  "language_info": {
   "file_extension": ".jl",
   "mimetype": "application/julia",
   "name": "julia",
   "version": "1.6.3"
  }
 },
 "nbformat": 4,
 "nbformat_minor": 2
}
